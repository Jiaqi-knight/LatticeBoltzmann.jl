{
 "cells": [
  {
   "cell_type": "code",
   "execution_count": 1,
   "metadata": {},
   "outputs": [],
   "source": [
    "using LatticeBoltzmann, Plots, LaTeXStrings, DataFrames, JLD2\n",
    "import LatticeBoltzmann: StopCriteria,\n",
    "    CompareWithAnalyticalSolution,\n",
    "    TrackHydrodynamicErrors,\n",
    "    ZeroVelocityInitialCondition,\n",
    "    IterativeInitializationMeiEtAl,\n",
    "    ConstantDensity,\n",
    "    density,\n",
    "    velocity!,\n",
    "    dimensionless_velocity,\n",
    "    ProcessingMethod,\n",
    "    next!,\n",
    "    InitializationStrategy,\n",
    "    ShowVelocityError\n",
    "\n",
    "using ProgressMeter, Logging, TerminalLoggers\n"
   ]
  },
  {
   "cell_type": "code",
   "execution_count": 8,
   "metadata": {},
   "outputs": [
    {
     "data": {
      "text/plain": [
       "main (generic function with 5 methods)"
      ]
     },
     "execution_count": 8,
     "metadata": {},
     "output_type": "execute_result"
    }
   ],
   "source": [
    "# Choose an end time such that we can be certain that a steady state solution\n",
    "# has been found before terminating\n",
    "const T_END = 100.0\n",
    "\n",
    "function solve(problem, q, τ_s, τ_a)\n",
    "    t_end = T_END\n",
    "    Δt = LatticeBoltzmann.delta_t(problem)\n",
    "    n_steps = round(Int, t_end / Δt)\n",
    "\n",
    "    process_method = TrackHydrodynamicErrors(\n",
    "        problem,\n",
    "        false,\n",
    "        n_steps,\n",
    "        LatticeBoltzmann.VelocityConvergenceStoppingCriteria(1E-7, problem)\n",
    "    )\n",
    "\n",
    "    collision_model = LatticeBoltzmann.TRT(\n",
    "        τ_s,\n",
    "        τ_a,\n",
    "        (x_idx, y_idx, t) -> LatticeBoltzmann.lattice_force(problem, x_idx, y_idx, t)\n",
    "    )\n",
    "\n",
    "    result = LatticeBoltzmann.simulate(\n",
    "        problem,\n",
    "        q,\n",
    "        t_end = t_end,\n",
    "        should_process = false,\n",
    "        collision_model = collision_model,\n",
    "        process_method = process_method,\n",
    "        initialization_strategy = ZeroVelocityInitialCondition(),\n",
    "    )\n",
    "\n",
    "    return result\n",
    "end\n",
    "\n",
    "\n",
    "function main(quadratures = [D2Q9()], scale = 2, τ_s_range = range(0.51, stop = 10.0, step = 0.01), τ_a_range = τ_s_range)\n",
    "    with_logger(TerminalLogger(stderr, Logging.Warn)) do\n",
    "        s = []\n",
    "        for q in quadratures\n",
    "            @showprogress \"Computing optimal relaxation times...\" for τ_s in τ_s_range, τ_a in τ_a_range\n",
    "\n",
    "                ν = (τ_s - 0.5) / q.speed_of_sound_squared\n",
    "                problem = PoiseuilleFlow(ν, scale)\n",
    "\n",
    "                result = solve(problem, q, τ_s, τ_a)\n",
    "                errors = result.processing_method.df[end]\n",
    "\n",
    "                push!(s, (\n",
    "                    τ_s = τ_s,\n",
    "                    τ_a = τ_a,\n",
    "                    quadrature = q,\n",
    "                    error_u = errors.error_u,\n",
    "                    error_p = errors.error_p,\n",
    "                    error_σ_xx = errors.error_σ_xx,\n",
    "                    error_σ_xy = errors.error_σ_xy\n",
    "                ))\n",
    "            end\n",
    "        end\n",
    "        return s\n",
    "    end\n",
    "end"
   ]
  },
  {
   "cell_type": "code",
   "execution_count": null,
   "metadata": {
    "scrolled": true
   },
   "outputs": [],
   "source": [
    "τs = range(0.51, stop = 10.0, step=0.01)\n",
    "τs = range(0.51, stop = 10.0, step=0.01)\n",
    "results = main([D2Q9()], 1, τs, τs)\n",
    "DataFrame(results)"
   ]
  },
  {
   "cell_type": "code",
   "execution_count": null,
   "metadata": {},
   "outputs": [],
   "source": [
    "DataFrame(results)"
   ]
  },
  {
   "cell_type": "code",
   "execution_count": null,
   "metadata": {},
   "outputs": [],
   "source": [
    "τ_as = map(d -> d.τ_a, results) |> unique\n",
    "τ_ss = map(d -> d.τ_s, results) |> unique\n",
    "p = contour(\n",
    "    τ_ss,\n",
    "    τ_as,\n",
    "    (s, a) -> results[findfirst(d -> d.τ_s == s && d.τ_a == a, results)].error_u,\n",
    "    xlabel=L\"\\tau_s\",\n",
    "    ylabel=L\"\\tau_a\",\n",
    "    fill=true\n",
    ")"
   ]
  }
 ],
 "metadata": {
  "kernelspec": {
   "display_name": "Julia 1.3.0",
   "language": "julia",
   "name": "julia-1.3"
  },
  "language_info": {
   "file_extension": ".jl",
   "mimetype": "application/julia",
   "name": "julia",
   "version": "1.3.0"
  }
 },
 "nbformat": 4,
 "nbformat_minor": 4
}
